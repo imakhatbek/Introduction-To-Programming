{
 "cells": [
  {
   "cell_type": "markdown",
   "id": "1caad6b5-10f3-4fac-b043-657bc416eab2",
   "metadata": {},
   "source": [
    "# Python Programming (ACFI827)\n",
    "\n",
    "## Lab Week 1"
   ]
  },
  {
   "cell_type": "markdown",
   "id": "57a11000-802b-40de-bbee-ec52b0a758e6",
   "metadata": {},
   "source": [
    "# This is Title\n",
    "\n",
    "## This is a subtitle in Markdown\n",
    "\n",
    "### This is a smaller subtitle in Markdown\n",
    "\n",
    "#### This is an even smaller subtitle\n",
    "\n",
    "**Bold Text**\n",
    "\n",
    "_Italic text_\n",
    "\n",
    "[add a link to webpage in a text](https://jupyter-notebook.readthedocs.io/en/stable/)"
   ]
  },
  {
   "cell_type": "code",
   "execution_count": 5,
   "id": "fda55fdd-0e41-40e1-a371-26acb6bc82ee",
   "metadata": {},
   "outputs": [
    {
     "name": "stdout",
     "output_type": "stream",
     "text": [
      "Hello world!\n",
      "4\n",
      "8\n",
      "3.0\n"
     ]
    }
   ],
   "source": [
    "print(\"Hello world!\")\n",
    "\n",
    "print(2+2) #add two numbers\n",
    "\n",
    "print(2*4) #multiple two numbers\n",
    "\n",
    "print(9/3) #division operation"
   ]
  },
  {
   "cell_type": "code",
   "execution_count": null,
   "id": "867349a7-023b-4d29-b156-457880b5deae",
   "metadata": {},
   "outputs": [],
   "source": []
  }
 ],
 "metadata": {
  "kernelspec": {
   "display_name": "Python [conda env:base] *",
   "language": "python",
   "name": "conda-base-py"
  },
  "language_info": {
   "codemirror_mode": {
    "name": "ipython",
    "version": 3
   },
   "file_extension": ".py",
   "mimetype": "text/x-python",
   "name": "python",
   "nbconvert_exporter": "python",
   "pygments_lexer": "ipython3",
   "version": "3.13.5"
  }
 },
 "nbformat": 4,
 "nbformat_minor": 5
}
